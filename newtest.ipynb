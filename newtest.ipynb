{
 "cells": [
  {
   "cell_type": "code",
   "execution_count": 2,
   "metadata": {},
   "outputs": [],
   "source": [
    "import findspark\n",
    "findspark.init()"
   ]
  },
  {
   "cell_type": "code",
   "execution_count": 3,
   "metadata": {},
   "outputs": [],
   "source": [
    "from pyspark.sql import SparkSession"
   ]
  },
  {
   "cell_type": "code",
   "execution_count": 4,
   "metadata": {},
   "outputs": [],
   "source": [
    "spark = SparkSession.builder.config(\"spark.driver.host\", \"localhost\").getOrCreate()\n",
    "\n",
    "#to build session\n",
    "from pyspark.sql import SparkSession\n",
    "spark = SparkSession.builder.appName('rdddf').master('local').getOrCreate()\n",
    "from pyspark.sql.functions import col, isnull"
   ]
  },
  {
   "cell_type": "code",
   "execution_count": 5,
   "metadata": {},
   "outputs": [],
   "source": [
    "sc=spark.sparkContext"
   ]
  },
  {
   "cell_type": "code",
   "execution_count": 6,
   "metadata": {},
   "outputs": [
    {
     "name": "stdout",
     "output_type": "stream",
     "text": [
      "+------------+--------------------+----------+--------------------+-------------------------+------------------------+-----------------------------+-----------------------------+--------------------+--------------------+-------+\n",
      "|collision_id|          crash_date|crash_time|      on_street_name|number_of_persons_injured|number_of_persons_killed|contributing_factor_vehicle_1|contributing_factor_vehicle_2|  vehicle_type_code1|  vehicle_type_code2|borough|\n",
      "+------------+--------------------+----------+--------------------+-------------------------+------------------------+-----------------------------+-----------------------------+--------------------+--------------------+-------+\n",
      "|     4456867|2021-09-02T00:00:...|     19:56|MAJOR DEEGAN EXPR...|                        0|                       0|                  Unspecified|                         null|               Sedan|                null|   null|\n",
      "|     4456988|2021-09-11T00:00:...|     15:45|     BUSHWICK AVENUE|                        0|                       0|         Following Too Clo...|                  Unspecified|Station Wagon/Spo...|                null|   null|\n",
      "|     4456859|2021-09-07T00:00:...|     22:30|          108 AVENUE|                        0|                       0|         Driver Inattentio...|                  Unspecified|Station Wagon/Spo...|Station Wagon/Spo...|   null|\n",
      "|     4456663|2021-06-25T00:00:...|     14:35| BEACH CHANNEL DRIVE|                        0|                       0|                  Unspecified|                  Unspecified|       Pick-up Truck|                null| QUEENS|\n",
      "|     4456624|2021-07-08T00:00:...|     18:40|AVENUE OF THE AME...|                        0|                       0|         Unsafe Lane Changing|                  Unspecified|               Sedan|               Sedan|   null|\n",
      "+------------+--------------------+----------+--------------------+-------------------------+------------------------+-----------------------------+-----------------------------+--------------------+--------------------+-------+\n",
      "only showing top 5 rows\n",
      "\n"
     ]
    }
   ],
   "source": [
    "df_load =spark.read.format(\"csv\").option(\"delimiter\",\",\").option(\"header\",\"True\").load(\"data.csv\")\n",
    "df_load.show(5)\n"
   ]
  },
  {
   "cell_type": "code",
   "execution_count": 7,
   "metadata": {},
   "outputs": [
    {
     "name": "stdout",
     "output_type": "stream",
     "text": [
      "Total distinct Boroughs: 6\n"
     ]
    }
   ],
   "source": [
    "borough_freq_df =(df_load.select(col(\"borough\").alias(\"borough\")).groupBy('borough').count().sort('borough').cache())\n",
    "print('Total distinct Boroughs:', borough_freq_df.count())"
   ]
  },
  {
   "cell_type": "code",
   "execution_count": 8,
   "metadata": {},
   "outputs": [
    {
     "data": {
      "text/html": [
       "<div>\n",
       "<style scoped>\n",
       "    .dataframe tbody tr th:only-of-type {\n",
       "        vertical-align: middle;\n",
       "    }\n",
       "\n",
       "    .dataframe tbody tr th {\n",
       "        vertical-align: top;\n",
       "    }\n",
       "\n",
       "    .dataframe thead th {\n",
       "        text-align: right;\n",
       "    }\n",
       "</style>\n",
       "<table border=\"1\" class=\"dataframe\">\n",
       "  <thead>\n",
       "    <tr style=\"text-align: right;\">\n",
       "      <th></th>\n",
       "      <th>on_street_name</th>\n",
       "      <th>count</th>\n",
       "    </tr>\n",
       "  </thead>\n",
       "  <tbody>\n",
       "    <tr>\n",
       "      <th>0</th>\n",
       "      <td>None</td>\n",
       "      <td>478</td>\n",
       "    </tr>\n",
       "    <tr>\n",
       "      <th>1</th>\n",
       "      <td>BELT PARKWAY</td>\n",
       "      <td>30</td>\n",
       "    </tr>\n",
       "    <tr>\n",
       "      <th>2</th>\n",
       "      <td>FDR DRIVE</td>\n",
       "      <td>26</td>\n",
       "    </tr>\n",
       "    <tr>\n",
       "      <th>3</th>\n",
       "      <td>MAJOR DEEGAN EXPRESSWAY</td>\n",
       "      <td>19</td>\n",
       "    </tr>\n",
       "    <tr>\n",
       "      <th>4</th>\n",
       "      <td>BRONX RIVER PARKWAY</td>\n",
       "      <td>18</td>\n",
       "    </tr>\n",
       "    <tr>\n",
       "      <th>5</th>\n",
       "      <td>BROADWAY</td>\n",
       "      <td>15</td>\n",
       "    </tr>\n",
       "    <tr>\n",
       "      <th>6</th>\n",
       "      <td>BROOKLYN QUEENS EXPRESSWAY</td>\n",
       "      <td>15</td>\n",
       "    </tr>\n",
       "    <tr>\n",
       "      <th>7</th>\n",
       "      <td>CROSS ISLAND PARKWAY</td>\n",
       "      <td>14</td>\n",
       "    </tr>\n",
       "    <tr>\n",
       "      <th>8</th>\n",
       "      <td>BRUCKNER BOULEVARD</td>\n",
       "      <td>13</td>\n",
       "    </tr>\n",
       "    <tr>\n",
       "      <th>9</th>\n",
       "      <td>MYRTLE AVENUE</td>\n",
       "      <td>12</td>\n",
       "    </tr>\n",
       "    <tr>\n",
       "      <th>10</th>\n",
       "      <td>LONG ISLAND EXPRESSWAY</td>\n",
       "      <td>12</td>\n",
       "    </tr>\n",
       "    <tr>\n",
       "      <th>11</th>\n",
       "      <td>CROSS BRONX EXPY</td>\n",
       "      <td>12</td>\n",
       "    </tr>\n",
       "    <tr>\n",
       "      <th>12</th>\n",
       "      <td>FULTON STREET</td>\n",
       "      <td>11</td>\n",
       "    </tr>\n",
       "    <tr>\n",
       "      <th>13</th>\n",
       "      <td>VAN WYCK EXPWY</td>\n",
       "      <td>11</td>\n",
       "    </tr>\n",
       "    <tr>\n",
       "      <th>14</th>\n",
       "      <td>BUSHWICK AVENUE</td>\n",
       "      <td>10</td>\n",
       "    </tr>\n",
       "    <tr>\n",
       "      <th>15</th>\n",
       "      <td>2 AVENUE</td>\n",
       "      <td>10</td>\n",
       "    </tr>\n",
       "    <tr>\n",
       "      <th>16</th>\n",
       "      <td>WHITESTONE EXPRESSWAY</td>\n",
       "      <td>10</td>\n",
       "    </tr>\n",
       "    <tr>\n",
       "      <th>17</th>\n",
       "      <td>3 AVENUE</td>\n",
       "      <td>10</td>\n",
       "    </tr>\n",
       "    <tr>\n",
       "      <th>18</th>\n",
       "      <td>OCEAN PARKWAY</td>\n",
       "      <td>10</td>\n",
       "    </tr>\n",
       "    <tr>\n",
       "      <th>19</th>\n",
       "      <td>STATEN ISLAND EXPRESSWAY</td>\n",
       "      <td>9</td>\n",
       "    </tr>\n",
       "  </tbody>\n",
       "</table>\n",
       "</div>"
      ],
      "text/plain": [
       "                on_street_name  count\n",
       "0                         None    478\n",
       "1                 BELT PARKWAY     30\n",
       "2                    FDR DRIVE     26\n",
       "3      MAJOR DEEGAN EXPRESSWAY     19\n",
       "4          BRONX RIVER PARKWAY     18\n",
       "5                     BROADWAY     15\n",
       "6   BROOKLYN QUEENS EXPRESSWAY     15\n",
       "7         CROSS ISLAND PARKWAY     14\n",
       "8           BRUCKNER BOULEVARD     13\n",
       "9                MYRTLE AVENUE     12\n",
       "10      LONG ISLAND EXPRESSWAY     12\n",
       "11            CROSS BRONX EXPY     12\n",
       "12               FULTON STREET     11\n",
       "13              VAN WYCK EXPWY     11\n",
       "14             BUSHWICK AVENUE     10\n",
       "15                    2 AVENUE     10\n",
       "16       WHITESTONE EXPRESSWAY     10\n",
       "17                    3 AVENUE     10\n",
       "18               OCEAN PARKWAY     10\n",
       "19    STATEN ISLAND EXPRESSWAY      9"
      ]
     },
     "execution_count": 8,
     "metadata": {},
     "output_type": "execute_result"
    }
   ],
   "source": [
    "paths_df = (df_load.select(col(\"on_street_name\")).groupBy('on_street_name').count().sort('count',ascending=False).limit(20))\n",
    "paths_pd_df = paths_df.toPandas()\n",
    "paths_pd_df"
   ]
  },
  {
   "cell_type": "code",
   "execution_count": 9,
   "metadata": {},
   "outputs": [
    {
     "name": "stdout",
     "output_type": "stream",
     "text": [
      "+--------------------+-----+\n",
      "|      on_street_name|count|\n",
      "+--------------------+-----+\n",
      "|        BELT PARKWAY|   30|\n",
      "|           FDR DRIVE|   26|\n",
      "|MAJOR DEEGAN EXPR...|   19|\n",
      "| BRONX RIVER PARKWAY|   18|\n",
      "|            BROADWAY|   15|\n",
      "|BROOKLYN QUEENS E...|   15|\n",
      "|CROSS ISLAND PARKWAY|   14|\n",
      "|  BRUCKNER BOULEVARD|   13|\n",
      "|       MYRTLE AVENUE|   12|\n",
      "|LONG ISLAND EXPRE...|   12|\n",
      "|    CROSS BRONX EXPY|   12|\n",
      "|       FULTON STREET|   11|\n",
      "|      VAN WYCK EXPWY|   11|\n",
      "|     BUSHWICK AVENUE|   10|\n",
      "|            2 AVENUE|   10|\n",
      "|WHITESTONE EXPRES...|   10|\n",
      "|            3 AVENUE|   10|\n",
      "|       OCEAN PARKWAY|   10|\n",
      "|STATEN ISLAND EXP...|    9|\n",
      "+--------------------+-----+\n",
      "\n"
     ]
    }
   ],
   "source": [
    "paths_df.filter(paths_df.on_street_name.isNotNull()).show()"
   ]
  },
  {
   "cell_type": "code",
   "execution_count": 10,
   "metadata": {},
   "outputs": [],
   "source": [
    "paths_df = (df_load.select(col(\"on_street_name\")).groupBy('on_street_name').count().sort('count',ascending=False))"
   ]
  },
  {
   "cell_type": "code",
   "execution_count": 12,
   "metadata": {},
   "outputs": [
    {
     "name": "stdout",
     "output_type": "stream",
     "text": [
      "+--------------------+-----+\n",
      "|      on_street_name|count|\n",
      "+--------------------+-----+\n",
      "|        BELT PARKWAY|   30|\n",
      "|           FDR DRIVE|   26|\n",
      "|MAJOR DEEGAN EXPR...|   19|\n",
      "| BRONX RIVER PARKWAY|   18|\n",
      "|            BROADWAY|   15|\n",
      "+--------------------+-----+\n",
      "only showing top 5 rows\n",
      "\n"
     ]
    }
   ],
   "source": [
    "paths_df.filter(paths_df.on_street_name.isNotNull()).show(5)"
   ]
  }
 ],
 "metadata": {
  "kernelspec": {
   "display_name": ".env",
   "language": "python",
   "name": "python3"
  },
  "language_info": {
   "codemirror_mode": {
    "name": "ipython",
    "version": 3
   },
   "file_extension": ".py",
   "mimetype": "text/x-python",
   "name": "python",
   "nbconvert_exporter": "python",
   "pygments_lexer": "ipython3",
   "version": "3.9.13"
  }
 },
 "nbformat": 4,
 "nbformat_minor": 2
}
