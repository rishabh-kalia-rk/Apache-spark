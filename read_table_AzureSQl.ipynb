{
 "cells": [
  {
   "cell_type": "markdown",
   "metadata": {},
   "source": [
    "# **To read table in databricks from azure SQL database**"
   ]
  },
  {
   "cell_type": "code",
   "execution_count": null,
   "metadata": {},
   "outputs": [],
   "source": [
    "jdbcHostname=\"<server_name\"\n",
    "jdbcPort=\"<default val - 1433\"\n",
    "jdbcDatabase=\"<database_name>\"\n",
    "jdbcUsername=\"<database_user_name>\"\n",
    "jdbcPassword=\"<database_user_password\"\n",
    "jdbcDrive=\"com.microsoft.sqlserver.jdbc.SQLServerDriver\"\n",
    "\n",
    "jdbcUrl=f\"jdbc:sqlserver://{jdbcHostname}:{jdbcPort};databaseName={jdbcDatabase};user={jdbcUsername};password={jdbcPassword}\""
   ]
  },
  {
   "cell_type": "markdown",
   "metadata": {},
   "source": [
    "**To read from databse to which we are connected using the jdbc connection.**"
   ]
  },
  {
   "cell_type": "code",
   "execution_count": null,
   "metadata": {},
   "outputs": [],
   "source": [
    "df1=spark.read.format(\"jdbc\").option(\"url\",jdbcUrl).option(\"dbtable\",\"schema_name.table_name\").load()"
   ]
  },
  {
   "cell_type": "markdown",
   "metadata": {},
   "source": [
    "* spark.read.format(\"jdbc\"): Specifies that you want to read data from a JDBC source.\n",
    "* .option(\"url\", jdbcUrl): Specifies the JDBC URL, which typically includes information about the database server, port, and database name. jdbcUrl should be replaced with the actual JDBC URL for your database.\n",
    "* .option(\"dbtable\", \"schema_name.table_name\"): Specifies the table you want to read from. Replace \"schema_name\" with the actual schema name and \"table_name\" with the table name\n",
    "* .load(): Executes the read operation and loads the data into a DataFrame (df1 in this case)."
   ]
  },
  {
   "cell_type": "markdown",
   "metadata": {},
   "source": [
    "On execution df1 dataframe is created from the data present in the table table_name which is present in the azure sql databse."
   ]
  },
  {
   "cell_type": "markdown",
   "metadata": {},
   "source": [
    "### **Method 2. using connection string we can connect to database in that we don't need to create jdbc connection.**"
   ]
  },
  {
   "cell_type": "markdown",
   "metadata": {},
   "source": [
    "**To get the connection string**\n",
    "*   Go to database you created in azure \n",
    "*   go to overview setion on Right you will see show database connection strings.\n",
    "*   click on that\n",
    "    *   It will give different driver (ADO.NET, JDBC, ODBC, PHP, Go)\n",
    "        *   click on JDBC and copy the value present in box."
   ]
  },
  {
   "cell_type": "code",
   "execution_count": null,
   "metadata": {},
   "outputs": [],
   "source": [
    "connectionString=\"copied-connection-string\"\n",
    "# in this replace {your_password} with your password, database login password"
   ]
  },
  {
   "cell_type": "code",
   "execution_count": null,
   "metadata": {},
   "outputs": [],
   "source": [
    "df= spark.read.jdbc(connectionString,\"schema_name.table_name\")\n",
    "# table_name - name of the table within the database which you want to read."
   ]
  }
 ],
 "metadata": {
  "kernelspec": {
   "display_name": ".env",
   "language": "python",
   "name": "python3"
  },
  "language_info": {
   "codemirror_mode": {
    "name": "ipython",
    "version": 3
   },
   "file_extension": ".py",
   "mimetype": "text/x-python",
   "name": "python",
   "nbconvert_exporter": "python",
   "pygments_lexer": "ipython3",
   "version": "3.9.13"
  }
 },
 "nbformat": 4,
 "nbformat_minor": 2
}
